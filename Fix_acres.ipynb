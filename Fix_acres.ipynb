{
 "cells": [
  {
   "cell_type": "code",
   "execution_count": 1,
   "metadata": {},
   "outputs": [],
   "source": [
    "import itertools\n",
    "import numpy as np\n",
    "import pandas as pd\n",
    "import matplotlib.pyplot as plt\n",
    "import seaborn as sns\n",
    "pd.set_option('display.max.columns', 100)\n",
    "from sklearn.model_selection import train_test_split, cross_val_score, StratifiedKFold\n",
    "from sklearn.ensemble import RandomForestClassifier\n",
    "from sklearn.metrics import roc_auc_score\n",
    "import warnings\n",
    "warnings.filterwarnings('ignore')\n",
    "from sklearn.preprocessing import StandardScaler\n",
    "from sklearn.linear_model import LogisticRegression\n",
    "from xgboost import XGBClassifier\n",
    "from calendar import monthrange \n",
    "from sklearn.preprocessing import OneHotEncoder\n",
    "from sklearn.preprocessing import LabelBinarizer\n",
    "import wikipedia\n",
    "import random"
   ]
  },
  {
   "cell_type": "code",
   "execution_count": 35,
   "metadata": {},
   "outputs": [],
   "source": [
    "pd.set_option(\"display.max_rows\",1000) "
   ]
  },
  {
   "cell_type": "code",
   "execution_count": 147,
   "metadata": {},
   "outputs": [],
   "source": [
    "def find_acres (Name):\n",
    "    def extract_int(list):\n",
    "        list_int = []\n",
    "        for i in list:\n",
    "            try:\n",
    "                if ',' in i:\n",
    "                    i_list = i.split(',')\n",
    "                    i = i_list[0] + i_list[1]\n",
    "                list_int.append(int(i))\n",
    "            except:\n",
    "                pass\n",
    "        return list_int\n",
    "    try:\n",
    "        wikipedia_page = wikipedia.page(Name)\n",
    "        list_words = [*map(lambda x: x.lower(),wikipedia_page.content.split(' '))]\n",
    "        word_cut = []\n",
    "        pos_acres = []\n",
    "        loc = 0\n",
    "        for word in list_words:\n",
    "            word = word.replace('.\\n\\nthe', '').rstrip(',').rstrip(':').rstrip(';').rstrip('.')\n",
    "            word_cut.append(word)\n",
    "            if word == 'acres':\n",
    "                pos_acres.append(loc)\n",
    "            else:\n",
    "                loc += 1\n",
    "        if len(pos_acres) == 0:\n",
    "            return np.NaN\n",
    "        for position in pos_acres:\n",
    "            words_before_acre = word_cut[position - 10:position + 1]\n",
    "            if 'covers' in words_before_acre:\n",
    "                all_ints = extract_int(words_before_acre)\n",
    "                if len(all_ints) == 1:\n",
    "                    num_arces = all_ints[0]\n",
    "                    break\n",
    "                else:\n",
    "                    num_arces = all_ints[-1]\n",
    "                    break\n",
    "        return num_arces\n",
    "    except:\n",
    "        return np.NaN\n"
   ]
  },
  {
   "cell_type": "code",
   "execution_count": 119,
   "metadata": {},
   "outputs": [],
   "source": [
    "def find_acres_new1 (Name):\n",
    "    def extract_int(list):\n",
    "        list_int = []\n",
    "        for i in list:\n",
    "            try:\n",
    "                if ',' in i:\n",
    "                    i_list = i.split(',')\n",
    "                    i = i_list[0] + i_list[1]\n",
    "                list_int.append(int(i))\n",
    "            except:\n",
    "                pass\n",
    "        return list_int\n",
    "    try:\n",
    "        wikipedia_page = wikipedia.page(Name)\n",
    "        list_words = [*map(lambda x: x.lower(),wikipedia_page.content.split(' '))]\n",
    "        pos_covers = []\n",
    "        loc = 0\n",
    "        for word in list_words:\n",
    "            word = word.replace('.\\n\\nthe', '').rstrip(',').rstrip(':').rstrip(';').rstrip('.')\n",
    "            if word == 'covers':\n",
    "                pos_covers.append(loc)\n",
    "            else:\n",
    "                loc += 1\n",
    "        if len(pos_covers) == 0:\n",
    "            return np.NaN\n",
    "        for position in pos_covers:\n",
    "            words_after_acre = list_words[position:position + 11]\n",
    "            if 'acres' in words_after_acre:\n",
    "                all_ints = extract_int(words_after_acre)\n",
    "                if len(all_ints) == 1:\n",
    "                    num_arces = all_ints[0]\n",
    "                    break\n",
    "                else:\n",
    "                    num_arces = all_ints[0]\n",
    "                    break\n",
    "        return num_arces\n",
    "    except:\n",
    "        return np.NaN"
   ]
  },
  {
   "cell_type": "code",
   "execution_count": 120,
   "metadata": {},
   "outputs": [],
   "source": [
    "def find_acres_new2 (Name):\n",
    "    def extract_int(list):\n",
    "        list_int = []\n",
    "        for i in list:\n",
    "            try:\n",
    "                if ',' in i:\n",
    "                    i_list = i.split(',')\n",
    "                    i = i_list[0] + i_list[1]\n",
    "                list_int.append(int(i))\n",
    "            except:\n",
    "                pass\n",
    "        return list_int\n",
    "    try:\n",
    "        Serch_res = wikipedia.search(Name)\n",
    "        wikipedia_page = wikipedia.page(Serch_res[0])\n",
    "        list_words = [*map(lambda x: x.lower(),wikipedia_page.content.split(' '))]\n",
    "        list_words_cut = []\n",
    "        pos_acres = []\n",
    "        loc = 0\n",
    "        for word in list_words:\n",
    "            word = word.replace('.\\n\\nthe', '').rstrip(',').rstrip(':').rstrip(';').rstrip('.').rstrip(')').lstrip('(')\n",
    "            list_words_cut.append(word)\n",
    "            if word == 'acres':\n",
    "                pos_acres.append(loc)\n",
    "            else:\n",
    "                loc += 1\n",
    "        if len(pos_acres) == 0:\n",
    "            return np.NaN\n",
    "        list_acres = []\n",
    "        for position in pos_acres:\n",
    "            words_before_acre = list_words_cut[position - 2:position+ 1]\n",
    "            all_ints = extract_int(words_before_acre)\n",
    "            if len(all_ints) == 1:\n",
    "                num_arces = all_ints[0]\n",
    "                list_acres.append(num_arces)\n",
    "            else:\n",
    "                num_arces = all_ints[-1]\n",
    "                list_acres.append(num_arces)\n",
    "        return np.max(list_acres)\n",
    "    except:\n",
    "        return np.NaN"
   ]
  },
  {
   "cell_type": "code",
   "execution_count": 183,
   "metadata": {},
   "outputs": [],
   "source": [
    "Airport_data = pd.read_csv('Data for comp/Extended Air Port Data.csv')"
   ]
  },
  {
   "cell_type": "code",
   "execution_count": 184,
   "metadata": {},
   "outputs": [],
   "source": [
    "for i in Airport_data.index:\n",
    "    Acre = Airport_data.loc[i, 'Acre']\n",
    "    if Acre == 2384.0:\n",
    "        Airport_data.loc[i, 'Acre'] = np.NaN"
   ]
  },
  {
   "cell_type": "code",
   "execution_count": 194,
   "metadata": {},
   "outputs": [],
   "source": [
    "Airport_data = Airport_data[['City', 'IATA','Acre']]"
   ]
  },
  {
   "cell_type": "code",
   "execution_count": 195,
   "metadata": {},
   "outputs": [],
   "source": [
    "Airport_data['Name'] = Airport_data['City'] + ' ' + Airport_data['IATA']"
   ]
  },
  {
   "cell_type": "code",
   "execution_count": 196,
   "metadata": {},
   "outputs": [],
   "source": [
    "Airport_data_nan = Airport_data[Airport_data['Acre'].isna()]"
   ]
  },
  {
   "cell_type": "code",
   "execution_count": 187,
   "metadata": {},
   "outputs": [],
   "source": []
  },
  {
   "cell_type": "code",
   "execution_count": null,
   "metadata": {},
   "outputs": [],
   "source": []
  },
  {
   "cell_type": "code",
   "execution_count": null,
   "metadata": {},
   "outputs": [],
   "source": []
  },
  {
   "cell_type": "code",
   "execution_count": 199,
   "metadata": {},
   "outputs": [],
   "source": [
    "for i in Airport_data_nan.index:\n",
    "    Name = Airport_data_nan.loc[i,'Name']\n",
    "    Acre = find_acres(Name)\n",
    "    Airport_data.loc[i, 'Acre'] = Acre\n",
    "    "
   ]
  },
  {
   "cell_type": "code",
   "execution_count": 200,
   "metadata": {},
   "outputs": [
    {
     "data": {
      "text/plain": [
       "City     1\n",
       "IATA     2\n",
       "Acre    57\n",
       "Name     2\n",
       "dtype: int64"
      ]
     },
     "execution_count": 200,
     "metadata": {},
     "output_type": "execute_result"
    }
   ],
   "source": [
    "Airport_data.isna().sum()"
   ]
  },
  {
   "cell_type": "code",
   "execution_count": 201,
   "metadata": {},
   "outputs": [],
   "source": [
    "Airport_data_nan1 = Airport_data[Airport_data['Acre'].isna()]"
   ]
  },
  {
   "cell_type": "code",
   "execution_count": null,
   "metadata": {},
   "outputs": [],
   "source": []
  },
  {
   "cell_type": "code",
   "execution_count": null,
   "metadata": {},
   "outputs": [],
   "source": []
  },
  {
   "cell_type": "code",
   "execution_count": 202,
   "metadata": {},
   "outputs": [],
   "source": [
    "for i in Airport_data_nan1.index:\n",
    "    Name = Airport_data_nan1.loc[i,'Name']\n",
    "    Acre = find_acres_new1(Name)\n",
    "    Airport_data.loc[i, 'Acre'] = Acre\n",
    "    "
   ]
  },
  {
   "cell_type": "code",
   "execution_count": null,
   "metadata": {},
   "outputs": [],
   "source": []
  },
  {
   "cell_type": "code",
   "execution_count": 203,
   "metadata": {},
   "outputs": [],
   "source": [
    "Airport_data_nan2 = Airport_data[Airport_data['Acre'].isna()]"
   ]
  },
  {
   "cell_type": "code",
   "execution_count": null,
   "metadata": {},
   "outputs": [],
   "source": []
  },
  {
   "cell_type": "code",
   "execution_count": 204,
   "metadata": {},
   "outputs": [],
   "source": [
    "for i in Airport_data_nan2.index:\n",
    "    Name = Airport_data_nan2.loc[i,'Name']\n",
    "    Acre = find_acres_new2(Name)\n",
    "    Airport_data.loc[i, 'Acre'] = Acre\n",
    "    "
   ]
  },
  {
   "cell_type": "code",
   "execution_count": 205,
   "metadata": {},
   "outputs": [
    {
     "data": {
      "text/plain": [
       "City     1\n",
       "IATA     2\n",
       "Acre    25\n",
       "Name     2\n",
       "dtype: int64"
      ]
     },
     "execution_count": 205,
     "metadata": {},
     "output_type": "execute_result"
    }
   ],
   "source": [
    "Airport_data.isna().sum()"
   ]
  },
  {
   "cell_type": "code",
   "execution_count": 206,
   "metadata": {},
   "outputs": [],
   "source": [
    "Airport_data_nan3 = Airport_data[Airport_data['Acre'].isna()]"
   ]
  },
  {
   "cell_type": "code",
   "execution_count": null,
   "metadata": {},
   "outputs": [],
   "source": []
  },
  {
   "cell_type": "code",
   "execution_count": 207,
   "metadata": {},
   "outputs": [],
   "source": [
    "dict_A = {'Hilo ITO':1007, 'Salisbury SBY':695, 'Lebanon LEB':563, 'Farmingdale FRG':526, 'New York JFK':5200,\n",
    "         'Columbus CMH':2265, 'Oklahoma City OKC':8081 , 'Bristol TRI':1250 ,'Washington DCA': 861 ,\n",
    "          'Eau Claire EAU':1100}"
   ]
  },
  {
   "cell_type": "code",
   "execution_count": 208,
   "metadata": {},
   "outputs": [],
   "source": [
    "for i in Airport_data_nan3.index:\n",
    "    Name = Airport_data_nan3.loc[i,'Name']\n",
    "    if Name in dict_A.keys():\n",
    "        Acre = dict_A[Name]\n",
    "        Airport_data.loc[i, 'Acre'] = Acre\n"
   ]
  },
  {
   "cell_type": "code",
   "execution_count": 209,
   "metadata": {},
   "outputs": [
    {
     "data": {
      "text/plain": [
       "City     1\n",
       "IATA     2\n",
       "Acre    15\n",
       "Name     2\n",
       "dtype: int64"
      ]
     },
     "execution_count": 209,
     "metadata": {},
     "output_type": "execute_result"
    }
   ],
   "source": [
    "Airport_data.isna().sum()"
   ]
  },
  {
   "cell_type": "code",
   "execution_count": 218,
   "metadata": {},
   "outputs": [],
   "source": [
    "median = Airport_data.median()"
   ]
  },
  {
   "cell_type": "code",
   "execution_count": 221,
   "metadata": {},
   "outputs": [
    {
     "data": {
      "text/plain": [
       "1525.0"
      ]
     },
     "execution_count": 221,
     "metadata": {},
     "output_type": "execute_result"
    }
   ],
   "source": [
    "median[0]"
   ]
  },
  {
   "cell_type": "code",
   "execution_count": 214,
   "metadata": {},
   "outputs": [],
   "source": [
    "Airport_data = Airport_data.fillna(mean)"
   ]
  },
  {
   "cell_type": "code",
   "execution_count": 222,
   "metadata": {},
   "outputs": [],
   "source": [
    "for i in Airport_data.index:\n",
    "    if Airport_data.loc[i, 'Acre'] == 2152.9:\n",
    "        Airport_data.loc[i, 'Acre'] = median[0]"
   ]
  },
  {
   "cell_type": "code",
   "execution_count": 224,
   "metadata": {},
   "outputs": [
    {
     "data": {
      "text/plain": [
       "array([[<matplotlib.axes._subplots.AxesSubplot object at 0x7f90b28d3b80>]],\n",
       "      dtype=object)"
      ]
     },
     "execution_count": 224,
     "metadata": {},
     "output_type": "execute_result"
    },
    {
     "data": {
      "image/png": "[encoded data removed]",
      "text/plain": [
       "<Figure size 432x288 with 1 Axes>"
      ]
     },
     "metadata": {
      "needs_background": "light"
     },
     "output_type": "display_data"
    }
   ],
   "source": [
    "Airport_data.hist()"
   ]
  },
  {
   "cell_type": "code",
   "execution_count": null,
   "metadata": {},
   "outputs": [],
   "source": []
  }
 ],
 "metadata": {
  "kernelspec": {
   "display_name": "Python 3",
   "language": "python",
   "name": "python3"
  },
  "language_info": {
   "codemirror_mode": {
    "name": "ipython",
    "version": 3
   },
   "file_extension": ".py",
   "mimetype": "text/x-python",
   "name": "python",
   "nbconvert_exporter": "python",
   "pygments_lexer": "ipython3",
   "version": "3.8.3"
  }
 },
 "nbformat": 4,
 "nbformat_minor": 4
}
