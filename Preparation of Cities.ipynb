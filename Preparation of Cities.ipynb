{
 "cells": [
  {
   "cell_type": "code",
   "execution_count": 211,
   "metadata": {},
   "outputs": [],
   "source": [
    "import itertools\n",
    "import numpy as np\n",
    "import pandas as pd\n",
    "import matplotlib.pyplot as plt\n",
    "import seaborn as sns\n",
    "pd.set_option('display.max.columns', 100)\n",
    "from sklearn.model_selection import train_test_split, cross_val_score, StratifiedKFold\n",
    "from sklearn.ensemble import RandomForestClassifier\n",
    "from sklearn.metrics import roc_auc_score\n",
    "import warnings\n",
    "warnings.filterwarnings('ignore')\n",
    "from sklearn.preprocessing import StandardScaler\n",
    "from sklearn.linear_model import LogisticRegression\n",
    "from xgboost import XGBClassifier\n",
    "from calendar import monthrange \n",
    "from sklearn.preprocessing import OneHotEncoder\n",
    "from sklearn.preprocessing import LabelBinarizer"
   ]
  },
  {
   "cell_type": "code",
   "execution_count": 212,
   "metadata": {},
   "outputs": [],
   "source": [
    "pd.set_option('display.width', 1000) \n",
    "pd.set_option ('display.max_columns' , 1000)\n",
    "pd.set_option(\"display.max_rows\", 1000)\n"
   ]
  },
  {
   "cell_type": "code",
   "execution_count": 213,
   "metadata": {},
   "outputs": [],
   "source": [
    "train_data = pd.read_csv('Data Sets/flight_delays_train.csv')\n",
    "y_train = train_data['dep_delayed_15min']\n",
    "x_test = pd.read_csv('Data Sets/flight_delays_test.csv')\n",
    "train_data['dep_delayed_15min'] = train_data['dep_delayed_15min'].map({'N':0, 'Y':1})\n",
    "x_train = train_data.drop(columns=['dep_delayed_15min'])"
   ]
  },
  {
   "cell_type": "code",
   "execution_count": 214,
   "metadata": {},
   "outputs": [],
   "source": [
    "Air_Ports_Codes_Names = pd.read_excel('Data Sets/Data for comp/Airports .xlsx')\n",
    "Population_of_cities = pd.read_excel('Data Sets/Data for comp/Population .xlsx')\n",
    "Top_100_airports = pd.read_excel('Data Sets/Data for comp/Top Airports.xlsx')\n",
    "Climate_features = pd.read_excel('Data Sets/Data for comp/Climate features .xlsx')\n",
    "Snow_data = pd.read_excel('Data Sets/Data for comp/Snow data.xlsx')\n",
    "Air_line_codes = pd.read_excel('Data Sets/Data for comp/Airlines codes .xlsx')\n",
    "Top_By_passengers_carried = pd.read_excel('Data Sets/Data for comp/Top By passengers carried .xlsx')\n",
    "Top_By_fleet_size = pd.read_excel('Data Sets/Data for comp/Top By fleet size.xlsx')"
   ]
  },
  {
   "cell_type": "code",
   "execution_count": 215,
   "metadata": {},
   "outputs": [],
   "source": [
    "States_Time_zones = pd.read_excel('Data Sets/Data for comp/Time Zones.xlsx')\n",
    "Time_zones = pd.read_excel('Data Sets/Data for comp/Differences between zones.xlsx')\n",
    "States_Time_zones['State'] = States_Time_zones['State'].apply(lambda x: x.split('(')[0])\n",
    "States_Time_zones['Time Zone'] = States_Time_zones['Time Zone'].apply(lambda x: x.split('(')[1][:-1])"
   ]
  },
  {
   "cell_type": "code",
   "execution_count": 216,
   "metadata": {},
   "outputs": [],
   "source": [
    "Codes = Air_line_codes['Passenger carrier:'].apply(lambda x: x.split(' ')[len(x.split(' ')) - 1])\n",
    "Codes = Codes.apply(lambda x: x[1:len(x) - 1])\n",
    "Air_lines = Air_line_codes['Passenger carrier:'].apply(lambda x: ' '.join(x.split(' ')[:len(x.split(' '))-1]))\n",
    "Air_line_codes = pd.DataFrame({'Air line': Air_lines, 'Code':Codes})"
   ]
  },
  {
   "cell_type": "code",
   "execution_count": 217,
   "metadata": {},
   "outputs": [],
   "source": [
    "def extract_name_city(Pandas_Series):\n",
    "    Series_of_cities = Pandas_Series.apply(lambda x: x.split(',')).apply(lambda x: x[0])\n",
    "    Series_of_States  = Pandas_Series.apply(lambda x: x.split(',')).apply(lambda x: x[1])\n",
    "    list_of_cities = []\n",
    "    for city in Series_of_cities:\n",
    "        my_list = city.split(' ')\n",
    "        if 'city' in my_list:\n",
    "            my_list.remove('city')\n",
    "        if 'town'in my_list:\n",
    "            my_list.remove('town')\n",
    "        if 'village' in my_list:\n",
    "            my_list.remove('village')\n",
    "        if 'CDP' in my_list:\n",
    "            my_list.remove('CDP')\n",
    "        if 'urban' in my_list:\n",
    "            my_list.remove('urban')\n",
    "        if 'county' in my_list:\n",
    "            my_list.remove('county')\n",
    "        if '(Ventura)' in my_list:\n",
    "            my_list.remove('(Ventura)')\n",
    "        if '' in my_list:\n",
    "            my_list.remove('village')\n",
    "        if '(balance)' in my_list:\n",
    "            my_list.remove('(balance)')\n",
    "        if my_list[len(my_list)-1] == 'government':\n",
    "            my_list = my_list[0]\n",
    "        list_of_cities.append(my_list)\n",
    "    return pd.Series(list_of_cities).map(lambda x: ' '.join(x))"
   ]
  },
  {
   "cell_type": "code",
   "execution_count": 218,
   "metadata": {},
   "outputs": [],
   "source": [
    "Population_of_cities1 = pd.read_excel('Data Sets/Data for comp/Population .xlsx')"
   ]
  },
  {
   "cell_type": "code",
   "execution_count": 219,
   "metadata": {},
   "outputs": [
    {
     "data": {
      "text/html": [
       "<div>\n",
       "<style scoped>\n",
       "    .dataframe tbody tr th:only-of-type {\n",
       "        vertical-align: middle;\n",
       "    }\n",
       "\n",
       "    .dataframe tbody tr th {\n",
       "        vertical-align: top;\n",
       "    }\n",
       "\n",
       "    .dataframe thead th {\n",
       "        text-align: right;\n",
       "    }\n",
       "</style>\n",
       "<table border=\"1\" class=\"dataframe\">\n",
       "  <thead>\n",
       "    <tr style=\"text-align: right;\">\n",
       "      <th></th>\n",
       "      <th>Unnamed: 0</th>\n",
       "      <th>Geographic Area</th>\n",
       "      <th>Population</th>\n",
       "    </tr>\n",
       "  </thead>\n",
       "  <tbody>\n",
       "    <tr>\n",
       "      <th>0</th>\n",
       "      <td>225.0</td>\n",
       "      <td>Abilene city, Texas</td>\n",
       "      <td>122186</td>\n",
       "    </tr>\n",
       "  </tbody>\n",
       "</table>\n",
       "</div>"
      ],
      "text/plain": [
       "   Unnamed: 0      Geographic Area  Population\n",
       "0       225.0  Abilene city, Texas      122186"
      ]
     },
     "execution_count": 219,
     "metadata": {},
     "output_type": "execute_result"
    }
   ],
   "source": [
    "Population_of_cities.head(1)"
   ]
  },
  {
   "cell_type": "code",
   "execution_count": 220,
   "metadata": {},
   "outputs": [],
   "source": [
    "Population_of_cities['Geographic Area'] = extract_name_city(Population_of_cities['Geographic Area'])\n",
    "Population_of_cities = Population_of_cities.drop(columns=['Unnamed: 0'])\n",
    "Population_of_cities.rename(columns={'Geographic Area':'City'},inplace= True)\n",
    "Population_of_cities.insert(loc = 1, column = 'State',\n",
    "                            value = Population_of_cities1['Geographic Area'].apply(lambda x: x.split(',')[1]))\n",
    "Population_of_cities['State'] = Population_of_cities['State'].apply(lambda x: x[1:])"
   ]
  },
  {
   "cell_type": "code",
   "execution_count": 221,
   "metadata": {},
   "outputs": [],
   "source": [
    "New_x_train = pd.read_csv('Data Sets/Data for comp/Final delay data.csv')\n",
    "New_x_train1 = pd.read_csv('Data Sets/Data for comp/Final delay data.csv')"
   ]
  },
  {
   "cell_type": "code",
   "execution_count": 222,
   "metadata": {},
   "outputs": [
    {
     "data": {
      "text/html": [
       "<div>\n",
       "<style scoped>\n",
       "    .dataframe tbody tr th:only-of-type {\n",
       "        vertical-align: middle;\n",
       "    }\n",
       "\n",
       "    .dataframe tbody tr th {\n",
       "        vertical-align: top;\n",
       "    }\n",
       "\n",
       "    .dataframe thead th {\n",
       "        text-align: right;\n",
       "    }\n",
       "</style>\n",
       "<table border=\"1\" class=\"dataframe\">\n",
       "  <thead>\n",
       "    <tr style=\"text-align: right;\">\n",
       "      <th></th>\n",
       "      <th>Unnamed: 0</th>\n",
       "      <th>Month</th>\n",
       "      <th>DayofMonth</th>\n",
       "      <th>DayOfWeek</th>\n",
       "      <th>DepTime</th>\n",
       "      <th>Dep part of day</th>\n",
       "      <th>Distance</th>\n",
       "      <th>Season</th>\n",
       "      <th>Is it holyday</th>\n",
       "      <th>Is it weekend</th>\n",
       "      <th>Part of month</th>\n",
       "      <th>Land time</th>\n",
       "      <th>Land part of day</th>\n",
       "      <th>UniqueCarrier</th>\n",
       "      <th>Origin</th>\n",
       "      <th>Dest</th>\n",
       "      <th>Origin_City</th>\n",
       "      <th>State_x</th>\n",
       "      <th>Dest_City</th>\n",
       "      <th>State_y</th>\n",
       "      <th>Origin_Population</th>\n",
       "      <th>Dest_Population</th>\n",
       "      <th>AL_in_Top_fleet_size</th>\n",
       "      <th>AL_in_Top_passengers_carried</th>\n",
       "      <th>Origin airport in top</th>\n",
       "      <th>Dest airport in top</th>\n",
       "      <th>Avg ° C Temp State_x</th>\n",
       "      <th>Prec Mill State_x</th>\n",
       "      <th>Sun hours State_x</th>\n",
       "      <th>Clear days State_x</th>\n",
       "      <th>Humidity</th>\n",
       "      <th>Avg ° C Temp State_y</th>\n",
       "      <th>Prec Mill State_y</th>\n",
       "      <th>Sun hours State_y</th>\n",
       "      <th>Clear days State_y</th>\n",
       "      <th>Humidity State_y</th>\n",
       "      <th>Target</th>\n",
       "    </tr>\n",
       "  </thead>\n",
       "  <tbody>\n",
       "    <tr>\n",
       "      <th>0</th>\n",
       "      <td>0</td>\n",
       "      <td>8</td>\n",
       "      <td>21</td>\n",
       "      <td>7</td>\n",
       "      <td>1934</td>\n",
       "      <td>Evening</td>\n",
       "      <td>732</td>\n",
       "      <td>Summer</td>\n",
       "      <td>Not Holyday</td>\n",
       "      <td>weekend</td>\n",
       "      <td>3.0</td>\n",
       "      <td>1952</td>\n",
       "      <td>Evening</td>\n",
       "      <td>AA</td>\n",
       "      <td>ATL</td>\n",
       "      <td>DFW</td>\n",
       "      <td>Atlanta Georgia</td>\n",
       "      <td>Georgia</td>\n",
       "      <td>Dallas Texas</td>\n",
       "      <td>Texas</td>\n",
       "      <td>491670.0</td>\n",
       "      <td>1342479.0</td>\n",
       "      <td>0</td>\n",
       "      <td>0</td>\n",
       "      <td>1</td>\n",
       "      <td>1</td>\n",
       "      <td>25.9</td>\n",
       "      <td>120.0</td>\n",
       "      <td>882.0</td>\n",
       "      <td>22.0</td>\n",
       "      <td>54.0</td>\n",
       "      <td>27.3</td>\n",
       "      <td>69.0</td>\n",
       "      <td>935.0</td>\n",
       "      <td>41.0</td>\n",
       "      <td>44.0</td>\n",
       "      <td>0</td>\n",
       "    </tr>\n",
       "  </tbody>\n",
       "</table>\n",
       "</div>"
      ],
      "text/plain": [
       "   Unnamed: 0  Month  DayofMonth  DayOfWeek  DepTime Dep part of day  Distance  Season Is it holyday Is it weekend  Part of month  Land time Land part of day UniqueCarrier Origin Dest      Origin_City  State_x     Dest_City State_y  Origin_Population  Dest_Population  AL_in_Top_fleet_size  AL_in_Top_passengers_carried  Origin airport in top  Dest airport in top  Avg ° C Temp State_x  Prec Mill State_x  Sun hours State_x  Clear days State_x  Humidity  Avg ° C Temp State_y  Prec Mill State_y  Sun hours State_y  Clear days State_y  Humidity State_y  Target\n",
       "0           0      8          21          7     1934        Evening        732  Summer   Not Holyday       weekend            3.0       1952         Evening             AA    ATL  DFW  Atlanta Georgia  Georgia  Dallas Texas   Texas           491670.0        1342479.0                     0                             0                      1                    1                  25.9              120.0              882.0                22.0      54.0                  27.3               69.0              935.0                41.0              44.0       0"
      ]
     },
     "execution_count": 222,
     "metadata": {},
     "output_type": "execute_result"
    }
   ],
   "source": [
    "New_x_train.head(1)"
   ]
  },
  {
   "cell_type": "code",
   "execution_count": 223,
   "metadata": {},
   "outputs": [
    {
     "data": {
      "text/plain": [
       "{nan}"
      ]
     },
     "execution_count": 223,
     "metadata": {},
     "output_type": "execute_result"
    }
   ],
   "source": [
    "set(Air_Ports_Codes_Names['State']) - set(Population_of_cities['State'])"
   ]
  },
  {
   "cell_type": "code",
   "execution_count": 224,
   "metadata": {},
   "outputs": [
    {
     "data": {
      "text/plain": [
       "set()"
      ]
     },
     "execution_count": 224,
     "metadata": {},
     "output_type": "execute_result"
    }
   ],
   "source": [
    "set(Population_of_cities['State']) - set(Air_Ports_Codes_Names['State'])"
   ]
  },
  {
   "cell_type": "code",
   "execution_count": null,
   "metadata": {},
   "outputs": [],
   "source": []
  },
  {
   "cell_type": "code",
   "execution_count": null,
   "metadata": {},
   "outputs": [],
   "source": []
  },
  {
   "cell_type": "code",
   "execution_count": null,
   "metadata": {},
   "outputs": [],
   "source": []
  }
 ],
 "metadata": {
  "kernelspec": {
   "display_name": "Python 3",
   "language": "python",
   "name": "python3"
  },
  "language_info": {
   "codemirror_mode": {
    "name": "ipython",
    "version": 3
   },
   "file_extension": ".py",
   "mimetype": "text/x-python",
   "name": "python",
   "nbconvert_exporter": "python",
   "pygments_lexer": "ipython3",
   "version": "3.8.3"
  }
 },
 "nbformat": 4,
 "nbformat_minor": 4
}
